{
 "cells": [
  {
   "cell_type": "code",
   "execution_count": 1,
   "id": "bce17865",
   "metadata": {},
   "outputs": [],
   "source": [
    "import numpy as np"
   ]
  },
  {
   "cell_type": "code",
   "execution_count": 134,
   "id": "9beedc4e",
   "metadata": {},
   "outputs": [],
   "source": [
    "def func(x):\n",
    "    x = x[0]\n",
    "    x1 = x[0]\n",
    "    x2 = x[1]\n",
    "    return 2*np.exp(x1)*x2 + 3*x1*(x2)**2"
   ]
  },
  {
   "cell_type": "code",
   "execution_count": 135,
   "id": "29545243",
   "metadata": {},
   "outputs": [],
   "source": [
    "def compute_gradient(func, x_input):\n",
    "    h = 0.001\n",
    "    dim_x = x_input.shape[0]\n",
    "    x_input = x_input.reshape((1,2))\n",
    "    grad = np.zeros((dim_x,1))\n",
    "    I_mat = np.identity(dim_x)\n",
    "    for i in range(dim_x):\n",
    "        grad[i] = (func(x_input + h*I_mat[i,:]) - func(x_input - h*I_mat[i,:]))/(2*h)\n",
    "    return grad"
   ]
  },
  {
   "cell_type": "code",
   "execution_count": 149,
   "id": "f80574ce",
   "metadata": {},
   "outputs": [],
   "source": [
    "def compute_hessian(func, x_input):\n",
    "    h = 0.001\n",
    "    dim_x = x_input.shape[0]\n",
    "    x_input = x_input.reshape((1,2))\n",
    "    hessian = np.zeros((dim_x,dim_x))\n",
    "    I_mat = np.identity(dim_x)\n",
    "    for i in range(dim_x):\n",
    "        for j in range(dim_x):\n",
    "            if i == j:\n",
    "                hessian[i][j] = (func(x_input + h*I_mat[i,:]) + func(x_input - h*I_mat[i,:]) - 2*func(x_input))/(h)**2\n",
    "            else:\n",
    "                A = func(x_input + h*I_mat[i,:] + h*I_mat[j,:])\n",
    "                B = func(x_input - h*I_mat[i,:] - h*I_mat[j,:])\n",
    "                C = func(x_input - h*I_mat[i,:] + h*I_mat[j,:])\n",
    "                D = func(x_input + h*I_mat[i,:] - h*I_mat[j,:])\n",
    "                hessian[i][j] = (A+B-C-D)/(4*h*h)\n",
    "    return hessian"
   ]
  },
  {
   "cell_type": "code",
   "execution_count": 150,
   "id": "28669976",
   "metadata": {},
   "outputs": [
    {
     "data": {
      "text/plain": [
       "array([[ 8.43656456],\n",
       "       [11.43656366]])"
      ]
     },
     "execution_count": 150,
     "metadata": {},
     "output_type": "execute_result"
    }
   ],
   "source": [
    "compute_gradient(func, np.array([1,1]))"
   ]
  },
  {
   "cell_type": "code",
   "execution_count": 151,
   "id": "9460ea16",
   "metadata": {},
   "outputs": [
    {
     "data": {
      "text/plain": [
       "array([[ 5.43656411, 11.43656456],\n",
       "       [11.43656456,  6.        ]])"
      ]
     },
     "execution_count": 151,
     "metadata": {},
     "output_type": "execute_result"
    }
   ],
   "source": [
    "compute_hessian(func, np.array([1,1]))"
   ]
  }
 ],
 "metadata": {
  "kernelspec": {
   "display_name": "Python 3 (ipykernel)",
   "language": "python",
   "name": "python3"
  },
  "language_info": {
   "codemirror_mode": {
    "name": "ipython",
    "version": 3
   },
   "file_extension": ".py",
   "mimetype": "text/x-python",
   "name": "python",
   "nbconvert_exporter": "python",
   "pygments_lexer": "ipython3",
   "version": "3.10.6"
  }
 },
 "nbformat": 4,
 "nbformat_minor": 5
}
