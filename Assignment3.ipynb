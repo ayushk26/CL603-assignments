{
 "cells": [
  {
   "cell_type": "code",
   "execution_count": 2,
   "id": "41a577b9",
   "metadata": {},
   "outputs": [],
   "source": [
    "import numpy as np\n",
    "import matplotlib.pyplot as plt"
   ]
  },
  {
   "cell_type": "code",
   "execution_count": 6,
   "id": "7acf2138",
   "metadata": {},
   "outputs": [],
   "source": [
    "def compute_gradient(func, x_input):\n",
    "    h = 0.001\n",
    "    dim_x = x_input.shape[0]\n",
    "    x_input = x_input.reshape((1,2))\n",
    "    grad = np.zeros((dim_x,1))\n",
    "    I_mat = np.identity(dim_x)\n",
    "    for i in range(dim_x):\n",
    "        grad[i] = (func(x_input + h*I_mat[i,:]) - func(x_input - h*I_mat[i,:]))/(2*h)\n",
    "    return grad"
   ]
  },
  {
   "cell_type": "code",
   "execution_count": 7,
   "id": "5b6a1037",
   "metadata": {},
   "outputs": [],
   "source": [
    "def compute_hessian(func, x_input):\n",
    "    h = 0.001\n",
    "    dim_x = x_input.shape[0]\n",
    "    x_input = x_input.reshape((1,2))\n",
    "    hessian = np.zeros((dim_x,dim_x))\n",
    "    I_mat = np.identity(dim_x)\n",
    "    for i in range(dim_x):\n",
    "        for j in range(dim_x):\n",
    "            if i == j:\n",
    "                hessian[i][j] = (func(x_input + h*I_mat[i,:]) + func(x_input - h*I_mat[i,:]) - 2*func(x_input))/(h)**2\n",
    "            else:\n",
    "                A = func(x_input + h*I_mat[i,:] + h*I_mat[j,:])\n",
    "                B = func(x_input - h*I_mat[i,:] - h*I_mat[j,:])\n",
    "                C = func(x_input - h*I_mat[i,:] + h*I_mat[j,:])\n",
    "                D = func(x_input + h*I_mat[i,:] - h*I_mat[j,:])\n",
    "                hessian[i][j] = (A+B-C-D)/(4*h*h)\n",
    "    return hessian"
   ]
  },
  {
   "cell_type": "code",
   "execution_count": 23,
   "id": "5b98f88c",
   "metadata": {},
   "outputs": [],
   "source": [
    "I = np.identity(3)"
   ]
  },
  {
   "cell_type": "code",
   "execution_count": 26,
   "id": "a1df936a",
   "metadata": {},
   "outputs": [],
   "source": [
    "I = np.concatenate((I,np.array([1, 2, 3]).reshape((3,1))),axis=1)"
   ]
  },
  {
   "cell_type": "code",
   "execution_count": 47,
   "id": "76f18e07",
   "metadata": {},
   "outputs": [
    {
     "data": {
      "text/plain": [
       "array([[0., 0., 1.],\n",
       "       [1., 0., 2.],\n",
       "       [0., 1., 3.]])"
      ]
     },
     "execution_count": 47,
     "metadata": {},
     "output_type": "execute_result"
    }
   ],
   "source": [
    "I[:,1:]"
   ]
  },
  {
   "cell_type": "code",
   "execution_count": 35,
   "id": "256b8dfd",
   "metadata": {},
   "outputs": [],
   "source": [
    "x = [1,3,5]\n",
    "c = np.array(x).reshape((3,1))"
   ]
  },
  {
   "cell_type": "code",
   "execution_count": 36,
   "id": "274dfc3c",
   "metadata": {},
   "outputs": [
    {
     "data": {
      "text/plain": [
       "array([[1],\n",
       "       [3],\n",
       "       [5]])"
      ]
     },
     "execution_count": 36,
     "metadata": {},
     "output_type": "execute_result"
    }
   ],
   "source": [
    "c"
   ]
  },
  {
   "cell_type": "code",
   "execution_count": 41,
   "id": "ddca5a88",
   "metadata": {},
   "outputs": [
    {
     "data": {
      "image/png": "[encoded data removed]",
      "text/plain": [
       "<Figure size 432x288 with 1 Axes>"
      ]
     },
     "metadata": {
      "needs_background": "light"
     },
     "output_type": "display_data"
    },
    {
     "data": {
      "image/png": "[encoded data removed]",
      "text/plain": [
       "<Figure size 432x288 with 1 Axes>"
      ]
     },
     "metadata": {
      "needs_background": "light"
     },
     "output_type": "display_data"
    }
   ],
   "source": [
    "plt.plot(np.array([1,2,3]),np.array([1,2,3]))\n",
    "plt.show()\n",
    "plt.plot(np.array([1,2,3]),np.array([4,5,6]))\n",
    "plt.show()"
   ]
  },
  {
   "cell_type": "code",
   "execution_count": 58,
   "id": "0283f301",
   "metadata": {},
   "outputs": [],
   "source": [
    "a = np.array([[1, 2], [3, 4]])\n",
    "b = np.array([[5, 6]]).T"
   ]
  },
  {
   "cell_type": "code",
   "execution_count": 3,
   "id": "deaa0e03",
   "metadata": {},
   "outputs": [
    {
     "data": {
      "text/plain": [
       "array([[0.],\n",
       "       [0.],\n",
       "       [0.]])"
      ]
     },
     "execution_count": 3,
     "metadata": {},
     "output_type": "execute_result"
    }
   ],
   "source": [
    "np.zeros((3,1))"
   ]
  },
  {
   "cell_type": "code",
   "execution_count": null,
   "id": "d7e44084",
   "metadata": {},
   "outputs": [],
   "source": []
  }
 ],
 "metadata": {
  "kernelspec": {
   "display_name": "Python 3 (ipykernel)",
   "language": "python",
   "name": "python3"
  },
  "language_info": {
   "codemirror_mode": {
    "name": "ipython",
    "version": 3
   },
   "file_extension": ".py",
   "mimetype": "text/x-python",
   "name": "python",
   "nbconvert_exporter": "python",
   "pygments_lexer": "ipython3",
   "version": "3.10.6"
  }
 },
 "nbformat": 4,
 "nbformat_minor": 5
}
